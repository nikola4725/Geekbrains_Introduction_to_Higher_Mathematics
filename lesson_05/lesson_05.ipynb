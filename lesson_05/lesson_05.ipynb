{
 "cells": [
  {
   "cell_type": "markdown",
   "metadata": {},
   "source": [
    "### 1. Напишите код, моделирующий выпадение поля в рулетке (с учетом поля зеро)."
   ]
  },
  {
   "cell_type": "code",
   "execution_count": 1,
   "metadata": {},
   "outputs": [],
   "source": [
    "import warnings\n",
    "warnings.filterwarnings('ignore')"
   ]
  },
  {
   "cell_type": "code",
   "execution_count": 2,
   "metadata": {},
   "outputs": [],
   "source": [
    "import numpy as np"
   ]
  },
  {
   "cell_type": "code",
   "execution_count": 3,
   "metadata": {},
   "outputs": [
    {
     "name": "stdout",
     "output_type": "stream",
     "text": [
      "\n",
      "20\n",
      "21\n",
      "16\n",
      "7\n",
      "24\n",
      "17q\n"
     ]
    }
   ],
   "source": [
    "while input() != 'q':\n",
    "    print(np.random.randint(37), end='')"
   ]
  },
  {
   "cell_type": "markdown",
   "metadata": {},
   "source": [
    "### 2. \n",
    "**1)** Напишите код, проверяющий любую из теорем сложения или умножения вероятности на примере рулетки или подбрасывания монетки."
   ]
  },
  {
   "cell_type": "markdown",
   "metadata": {},
   "source": [
    "Проверим, что для противоположных событий p(A) + p(B) = 1.  \n",
    "Подбросим монетку n раз (пусть 1 - орел и 0 - решка) и посчитаем сколько раз выпал орел (k раз). После этого посчитаем вероятности выпадения орла и решки (p1 и p2 соответственно) как количество выпадений орла (k) и решки (n-k) на этой дистанции к общему количетву испытаний (n). Согласно теореме сумма этих вероятностей должна равняться 1."
   ]
  },
  {
   "cell_type": "markdown",
   "metadata": {},
   "source": [
    "**Прим.:** метод count для подсчета количества вхождений элемента в массив не работает с типом numpy.ndarray, возвращаемым np.random.randint. Поэтому преобразуем numpy.ndarray в list"
   ]
  },
  {
   "cell_type": "code",
   "execution_count": 4,
   "metadata": {},
   "outputs": [
    {
     "name": "stdout",
     "output_type": "stream",
     "text": [
      "0.479 0.521 1.0\n"
     ]
    }
   ],
   "source": [
    "n = 1000\n",
    "k = list(np.random.randint(0, 2, n)).count(1)\n",
    "p1 = k / n\n",
    "p2 = (n - k) / n\n",
    "print(p1, p2, p1 + p2)"
   ]
  },
  {
   "cell_type": "markdown",
   "metadata": {},
   "source": [
    "**2)** Сгенерируйте десять выборок случайных чисел х0, …, х9.\n",
    "и постройте гистограмму распределения случайной суммы х0+х1+ …+ х9."
   ]
  },
  {
   "cell_type": "code",
   "execution_count": 5,
   "metadata": {},
   "outputs": [],
   "source": [
    "import matplotlib.pyplot as plt"
   ]
  },
  {
   "cell_type": "markdown",
   "metadata": {},
   "source": [
    "**Прим.:** sorted() для наглядности (на результат не влияет)"
   ]
  },
  {
   "cell_type": "code",
   "execution_count": 6,
   "metadata": {},
   "outputs": [
    {
     "data": {
      "text/plain": [
       "[4.53, 4.93, 5.03, 5.13, 5.13, 5.4, 5.56, 5.62, 6.27, 6.92]"
      ]
     },
     "execution_count": 6,
     "metadata": {},
     "output_type": "execute_result"
    }
   ],
   "source": [
    "x = sorted([round(np.random.rand(10).sum(), 2) for i in range(10)])\n",
    "x"
   ]
  },
  {
   "cell_type": "code",
   "execution_count": 7,
   "metadata": {},
   "outputs": [
    {
     "data": {
      "text/plain": [
       "Text(0, 0.5, 'count')"
      ]
     },
     "execution_count": 7,
     "metadata": {},
     "output_type": "execute_result"
    },
    {
     "data": {
      "image/png": "[encoded data removed]",
      "text/plain": [
       "<Figure size 432x288 with 1 Axes>"
      ]
     },
     "metadata": {
      "needs_background": "light"
     },
     "output_type": "display_data"
    }
   ],
   "source": [
    "bins = 5\n",
    "plt.hist(sorted(x), bins)\n",
    "plt.xlabel('sum')\n",
    "plt.ylabel('count')"
   ]
  },
  {
   "cell_type": "markdown",
   "metadata": {},
   "source": [
    "### 3.  \n",
    "**1)** Дополните код Монте-Карло последовательности независимых испытаний расчетом соответствующих вероятностей (через биномиальное распределение) и сравните результаты."
   ]
  },
  {
   "cell_type": "markdown",
   "metadata": {},
   "source": [
    "Сколько получается по коду из видео:"
   ]
  },
  {
   "cell_type": "code",
   "execution_count": 8,
   "metadata": {},
   "outputs": [
    {
     "name": "stdout",
     "output_type": "stream",
     "text": [
      "0.3683\n"
     ]
    }
   ],
   "source": [
    "k, n = 0, 10000\n",
    "a = np.random.randint(0, 2, n)\n",
    "b = np.random.randint(0, 2, n)\n",
    "c = np.random.randint(0, 2, n)\n",
    "d = np.random.randint(0, 2, n)\n",
    "x = a + b + c + d\n",
    "for i in range(n):\n",
    "    if x[i] == 2:\n",
    "        k = k + 1\n",
    "print(k / n)"
   ]
  },
  {
   "cell_type": "markdown",
   "metadata": {},
   "source": [
    "Сколько должно быть (раcчет по формулам):"
   ]
  },
  {
   "cell_type": "code",
   "execution_count": 9,
   "metadata": {},
   "outputs": [],
   "source": [
    "def prob(k, n):\n",
    "    C = np.math.factorial(n) / (np.math.factorial(k) * np.math.factorial(n - k))\n",
    "    return C / pow(2, n)"
   ]
  },
  {
   "cell_type": "code",
   "execution_count": 10,
   "metadata": {},
   "outputs": [
    {
     "data": {
      "text/plain": [
       "0.375"
      ]
     },
     "execution_count": 10,
     "metadata": {},
     "output_type": "execute_result"
    }
   ],
   "source": [
    "prob(2, 4)"
   ]
  },
  {
   "cell_type": "markdown",
   "metadata": {},
   "source": [
    "**2)** Повторите расчеты биномиальных коэффициентов и вероятностей k успехов в последовательности из n независимых испытаний, взяв другие значения n и k."
   ]
  },
  {
   "cell_type": "code",
   "execution_count": 11,
   "metadata": {},
   "outputs": [
    {
     "data": {
      "text/plain": [
       "0.25"
      ]
     },
     "execution_count": 11,
     "metadata": {},
     "output_type": "execute_result"
    }
   ],
   "source": [
    "prob(3, 4)"
   ]
  },
  {
   "cell_type": "code",
   "execution_count": 12,
   "metadata": {},
   "outputs": [
    {
     "data": {
      "text/plain": [
       "0.1171875"
      ]
     },
     "execution_count": 12,
     "metadata": {},
     "output_type": "execute_result"
    }
   ],
   "source": [
    "prob(3, 10)"
   ]
  },
  {
   "cell_type": "markdown",
   "metadata": {},
   "source": [
    "### 4. Из урока по комбинаторике повторите расчеты, сгенерировав возможные варианты перестановок для других значений n и k"
   ]
  },
  {
   "cell_type": "code",
   "execution_count": 13,
   "metadata": {},
   "outputs": [],
   "source": [
    "import itertools"
   ]
  },
  {
   "cell_type": "code",
   "execution_count": 14,
   "metadata": {},
   "outputs": [
    {
     "name": "stdout",
     "output_type": "stream",
     "text": [
      "6\n",
      "---\n",
      "012\n",
      "021\n",
      "102\n",
      "120\n",
      "201\n",
      "210\n"
     ]
    }
   ],
   "source": [
    "print(len(list(itertools.permutations('012', 3))))\n",
    "print('---')\n",
    "for i in itertools.permutations('012', 3):\n",
    "    print(''.join(i))"
   ]
  },
  {
   "cell_type": "code",
   "execution_count": 15,
   "metadata": {},
   "outputs": [
    {
     "name": "stdout",
     "output_type": "stream",
     "text": [
      "120\n",
      "---\n",
      "0123\n",
      "0125\n",
      "0132\n",
      "0135\n",
      "0152\n",
      "0153\n",
      "0213\n",
      "0215\n",
      "0231\n",
      "0235\n",
      "0251\n",
      "0253\n",
      "0312\n",
      "0315\n",
      "0321\n",
      "0325\n",
      "0351\n",
      "0352\n",
      "0512\n",
      "0513\n",
      "0521\n",
      "0523\n",
      "0531\n",
      "0532\n",
      "1023\n",
      "1025\n",
      "1032\n",
      "1035\n",
      "1052\n",
      "1053\n",
      "1203\n",
      "1205\n",
      "1230\n",
      "1235\n",
      "1250\n",
      "1253\n",
      "1302\n",
      "1305\n",
      "1320\n",
      "1325\n",
      "1350\n",
      "1352\n",
      "1502\n",
      "1503\n",
      "1520\n",
      "1523\n",
      "1530\n",
      "1532\n",
      "2013\n",
      "2015\n",
      "2031\n",
      "2035\n",
      "2051\n",
      "2053\n",
      "2103\n",
      "2105\n",
      "2130\n",
      "2135\n",
      "2150\n",
      "2153\n",
      "2301\n",
      "2305\n",
      "2310\n",
      "2315\n",
      "2350\n",
      "2351\n",
      "2501\n",
      "2503\n",
      "2510\n",
      "2513\n",
      "2530\n",
      "2531\n",
      "3012\n",
      "3015\n",
      "3021\n",
      "3025\n",
      "3051\n",
      "3052\n",
      "3102\n",
      "3105\n",
      "3120\n",
      "3125\n",
      "3150\n",
      "3152\n",
      "3201\n",
      "3205\n",
      "3210\n",
      "3215\n",
      "3250\n",
      "3251\n",
      "3501\n",
      "3502\n",
      "3510\n",
      "3512\n",
      "3520\n",
      "3521\n",
      "5012\n",
      "5013\n",
      "5021\n",
      "5023\n",
      "5031\n",
      "5032\n",
      "5102\n",
      "5103\n",
      "5120\n",
      "5123\n",
      "5130\n",
      "5132\n",
      "5201\n",
      "5203\n",
      "5210\n",
      "5213\n",
      "5230\n",
      "5231\n",
      "5301\n",
      "5302\n",
      "5310\n",
      "5312\n",
      "5320\n",
      "5321\n"
     ]
    }
   ],
   "source": [
    "print(len(list(itertools.permutations('01235', 4))))\n",
    "print('---')\n",
    "for i in itertools.permutations('01235', 4):\n",
    "    print(''.join(i))"
   ]
  },
  {
   "cell_type": "markdown",
   "metadata": {},
   "source": [
    "### 5. Дополните код расчетом коэффициента корреляции x и y по формуле"
   ]
  },
  {
   "cell_type": "code",
   "execution_count": 16,
   "metadata": {},
   "outputs": [
    {
     "name": "stdout",
     "output_type": "stream",
     "text": [
      "0.6354786853155925 0.18074246479880007\n",
      "0.6354786853155912 0.18074246479880068\n"
     ]
    },
    {
     "data": {
      "image/png": "[encoded data removed]",
      "text/plain": [
       "<Figure size 432x288 with 1 Axes>"
      ]
     },
     "metadata": {
      "needs_background": "light"
     },
     "output_type": "display_data"
    }
   ],
   "source": [
    "n = 100\n",
    "r = 0.7\n",
    "x = np.random.rand(n)\n",
    "y = r * x + (1 - r) * np.random.rand(n)\n",
    "plt.plot(x, y, 'o')\n",
    "plt.xlabel('x')\n",
    "plt.ylabel('y')\n",
    "plt.grid(True)\n",
    "a = (np.sum(x) * np.sum(y) - n * np.sum(x * y)) / (np.sum(x) * np.sum(x) - n * np.sum(x * x))\n",
    "b = (np.sum(y) - a * np.sum(x)) / n\n",
    "A = np.vstack([x, np.ones(len(x))]).T\n",
    "a1, b1 = np.linalg.lstsq(A, y)[0]\n",
    "print(a, b)\n",
    "print(a1, b1)"
   ]
  },
  {
   "cell_type": "code",
   "execution_count": 17,
   "metadata": {},
   "outputs": [
    {
     "name": "stdout",
     "output_type": "stream",
     "text": [
      "0.9019066837863597 0.9019066837863595\n"
     ]
    }
   ],
   "source": [
    "c = np.sum((x - np.mean(x)) * (y - np.mean(y))) /\\\n",
    "                            np.sqrt(np.sum(np.square(x - np.mean(x))) * np.sum(np.square(y - np.mean(y))))\n",
    "c1 = np.corrcoef(x, y)\n",
    "print(c, c1[0][1])"
   ]
  }
 ],
 "metadata": {
  "kernelspec": {
   "display_name": "Python 3",
   "language": "python",
   "name": "python3"
  },
  "language_info": {
   "codemirror_mode": {
    "name": "ipython",
    "version": 3
   },
   "file_extension": ".py",
   "mimetype": "text/x-python",
   "name": "python",
   "nbconvert_exporter": "python",
   "pygments_lexer": "ipython3",
   "version": "3.7.3"
  }
 },
 "nbformat": 4,
 "nbformat_minor": 2
}
